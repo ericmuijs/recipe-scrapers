{
 "metadata": {
  "language_info": {
   "codemirror_mode": {
    "name": "ipython",
    "version": 3
   },
   "file_extension": ".py",
   "mimetype": "text/x-python",
   "name": "python",
   "nbconvert_exporter": "python",
   "pygments_lexer": "ipython3",
   "version": "3.9.1-final"
  },
  "orig_nbformat": 2,
  "kernelspec": {
   "name": "python3",
   "display_name": "Python 3",
   "language": "python"
  }
 },
 "nbformat": 4,
 "nbformat_minor": 2,
 "cells": [
  {
   "cell_type": "code",
   "execution_count": 1,
   "metadata": {},
   "outputs": [],
   "source": [
    "import requests\n",
    "import re\n",
    "\n",
    "URL = 'https://www.lekkerensimpel.com/pastaschotel-met-spinazie-en-spekjes/'\n",
    "page = requests.get(URL)\n"
   ]
  },
  {
   "cell_type": "code",
   "execution_count": 2,
   "metadata": {},
   "outputs": [],
   "source": [
    "from bs4 import BeautifulSoup"
   ]
  },
  {
   "cell_type": "code",
   "execution_count": 3,
   "metadata": {},
   "outputs": [],
   "source": [
    "soup = BeautifulSoup(page.content, 'html.parser')"
   ]
  },
  {
   "cell_type": "code",
   "execution_count": 4,
   "metadata": {},
   "outputs": [
    {
     "output_type": "execute_result",
     "data": {
      "text/plain": [
       "'Pastaschotel met spinazie en spekjes'"
      ]
     },
     "metadata": {},
     "execution_count": 4
    }
   ],
   "source": [
    "soup.find(\"h1\", {\"class\" : \"hero__title\"}).text"
   ]
  },
  {
   "cell_type": "code",
   "execution_count": 5,
   "metadata": {},
   "outputs": [
    {
     "output_type": "execute_result",
     "data": {
      "text/plain": [
       "'Hoofdgerecht'"
      ]
     },
     "metadata": {},
     "execution_count": 5
    }
   ],
   "source": [
    "soup.find(\"div\", {\"class\" : \"recipe__meta\"}).find_all(\"span\", {\"class\" : \"recipe__meta-title\"})[0].text.strip()"
   ]
  },
  {
   "cell_type": "code",
   "execution_count": 6,
   "metadata": {},
   "outputs": [
    {
     "output_type": "execute_result",
     "data": {
      "text/plain": [
       "'2 personen'"
      ]
     },
     "metadata": {},
     "execution_count": 6
    }
   ],
   "source": [
    "soup.find(\"div\", {\"class\" : \"recipe__meta\"}).find_all(\"span\", {\"class\" : \"recipe__meta-title\"})[1].text.strip()"
   ]
  },
  {
   "cell_type": "code",
   "execution_count": 7,
   "metadata": {},
   "outputs": [],
   "source": [
    "time_list = soup.find(\"div\", {\"class\" : \"recipe__meta\"}).find_all(\"span\", {\"class\" : \"recipe__meta-title\"})[2].contents\n",
    "\n",
    "\n",
    "\n"
   ]
  },
  {
   "cell_type": "code",
   "execution_count": 8,
   "metadata": {},
   "outputs": [
    {
     "output_type": "error",
     "ename": "TypeError",
     "evalue": "expected string or bytes-like object",
     "traceback": [
      "\u001b[1;31m---------------------------------------------------------------------------\u001b[0m",
      "\u001b[1;31mTypeError\u001b[0m                                 Traceback (most recent call last)",
      "\u001b[1;32m<ipython-input-8-ee89b097c660>\u001b[0m in \u001b[0;36m<module>\u001b[1;34m\u001b[0m\n\u001b[0;32m      1\u001b[0m \u001b[0mnumber\u001b[0m \u001b[1;33m=\u001b[0m \u001b[0mre\u001b[0m\u001b[1;33m.\u001b[0m\u001b[0mcompile\u001b[0m\u001b[1;33m(\u001b[0m\u001b[1;34m\"\\d+\"\u001b[0m\u001b[1;33m)\u001b[0m\u001b[1;33m\u001b[0m\u001b[1;33m\u001b[0m\u001b[0m\n\u001b[0;32m      2\u001b[0m \u001b[1;33m\u001b[0m\u001b[0m\n\u001b[1;32m----> 3\u001b[1;33m \u001b[1;33m[\u001b[0m\u001b[0mtime_str\u001b[0m \u001b[1;32mfor\u001b[0m \u001b[0mtime_str\u001b[0m \u001b[1;32min\u001b[0m \u001b[0mtime_list\u001b[0m \u001b[1;32mif\u001b[0m \u001b[0mnumber\u001b[0m\u001b[1;33m.\u001b[0m\u001b[0mfindall\u001b[0m\u001b[1;33m(\u001b[0m\u001b[0mtime_str\u001b[0m\u001b[1;33m)\u001b[0m\u001b[1;33m]\u001b[0m\u001b[1;33m\u001b[0m\u001b[1;33m\u001b[0m\u001b[0m\n\u001b[0m\u001b[0;32m      4\u001b[0m \u001b[1;33m\u001b[0m\u001b[0m\n\u001b[0;32m      5\u001b[0m \u001b[1;33m\u001b[0m\u001b[0m\n",
      "\u001b[1;32m<ipython-input-8-ee89b097c660>\u001b[0m in \u001b[0;36m<listcomp>\u001b[1;34m(.0)\u001b[0m\n\u001b[0;32m      1\u001b[0m \u001b[0mnumber\u001b[0m \u001b[1;33m=\u001b[0m \u001b[0mre\u001b[0m\u001b[1;33m.\u001b[0m\u001b[0mcompile\u001b[0m\u001b[1;33m(\u001b[0m\u001b[1;34m\"\\d+\"\u001b[0m\u001b[1;33m)\u001b[0m\u001b[1;33m\u001b[0m\u001b[1;33m\u001b[0m\u001b[0m\n\u001b[0;32m      2\u001b[0m \u001b[1;33m\u001b[0m\u001b[0m\n\u001b[1;32m----> 3\u001b[1;33m \u001b[1;33m[\u001b[0m\u001b[0mtime_str\u001b[0m \u001b[1;32mfor\u001b[0m \u001b[0mtime_str\u001b[0m \u001b[1;32min\u001b[0m \u001b[0mtime_list\u001b[0m \u001b[1;32mif\u001b[0m \u001b[0mnumber\u001b[0m\u001b[1;33m.\u001b[0m\u001b[0mfindall\u001b[0m\u001b[1;33m(\u001b[0m\u001b[0mtime_str\u001b[0m\u001b[1;33m)\u001b[0m\u001b[1;33m]\u001b[0m\u001b[1;33m\u001b[0m\u001b[1;33m\u001b[0m\u001b[0m\n\u001b[0m\u001b[0;32m      4\u001b[0m \u001b[1;33m\u001b[0m\u001b[0m\n\u001b[0;32m      5\u001b[0m \u001b[1;33m\u001b[0m\u001b[0m\n",
      "\u001b[1;31mTypeError\u001b[0m: expected string or bytes-like object"
     ]
    }
   ],
   "source": [
    "number = re.compile(\"\\d+\")\n",
    "\n",
    "[time_str for time_str in time_list if number.findall(time_str)]\n",
    "\n",
    "\n"
   ]
  },
  {
   "cell_type": "code",
   "execution_count": 9,
   "metadata": {},
   "outputs": [
    {
     "output_type": "stream",
     "name": "stdout",
     "text": [
      "yes\n"
     ]
    }
   ],
   "source": [
    "if number.findall(\"123244 2134\"):\n",
    "    print(\"yes\")"
   ]
  },
  {
   "cell_type": "code",
   "execution_count": 10,
   "metadata": {},
   "outputs": [
    {
     "output_type": "stream",
     "name": "stdout",
     "text": [
      "25\n"
     ]
    }
   ],
   "source": [
    "total_time=0\n",
    "for time_str in time_list:\n",
    "    if number.findall(str(time_str)):\n",
    "        total_time += int(number.findall(str(time_str))[0])\n",
    "\n",
    "print(total_time)\n"
   ]
  },
  {
   "cell_type": "code",
   "execution_count": 24,
   "metadata": {},
   "outputs": [
    {
     "output_type": "execute_result",
     "data": {
      "text/plain": [
       "['150 gr penne',\n",
       " '75 gr spekjes',\n",
       " '1 teentje knoflook',\n",
       " '200 gr spinazie',\n",
       " '50 gr boter',\n",
       " '50 gr bloem',\n",
       " '500 ml melk',\n",
       " '100 gr geraspte kaas plus een beetje extra',\n",
       " 'tl nootmuskaat',\n",
       " 'cherrytomaatjes',\n",
       " 'peper']"
      ]
     },
     "metadata": {},
     "execution_count": 24
    }
   ],
   "source": [
    "\n",
    "\n",
    "[' '.join([component.text.strip() for component  in li.find_all(\"span\")]) for li in soup.find(\"div\", {\"class\" : \"recipe__necessities\"}).find_all('li')]"
   ]
  },
  {
   "cell_type": "code",
   "execution_count": 28,
   "metadata": {},
   "outputs": [
    {
     "output_type": "execute_result",
     "data": {
      "text/plain": [
       "'Een pastaschotel gaat er eigenlijk altijd wel in hier in huis, zo ook deze pastaschotel met spinazie en spekjes. We hebben de bechamelsaus voor dit recept zelf gemaakt, niet heel lastig en heel veel lekkerder dan uit een potje! \\naan de slag met de pastaschotel met spinazie\\nBegin met het koken van de penne. Kook de penne beetgaar (al dente), volg hiervoor de instructies op de verpakking. Verwarm ondertussen de oven voor op 180 graden en snijd het teentje knoflook fijn. Bak de spekjes in een koekenpan zonder olie voor ongeveer 3-4 minuten. Bak dan de spinazie nog even een minuut of drie mee samen met de knoflook. Meng de spinazie en spekjes door de pasta en doe alles in een ovenschaal. \\n\\nDan is het nu tijd om de bechamelsaus te maken. Smelt de boter en zorg ervoor dat de boter niet bruin wordt. Voeg dan de bloem toe en roer dit tot een tot er een soort beslag ontstaat en laat even heel kort sudderen (maximaal 30 seconden). Doe dan beetje voor beetje de melk erbij en tot slot roer je de geraspte kaas, nootmuskaat en peper door de saus. \\n\\nGiet de saus over de pasta, nog een beetje extra geraspte kaas erover, gehalveerde cherrytomaatjes en de pastaschotel kan de oven in voor ongeveer 10-15 minuten tot de kaas gesmolten is. Eet smakelijk! \\nGeen fan van spekjes? Bak dan wat kipfilet blokjes! Ook erg lekker in dit recept. \\n\\nBewaar het recept voor de pastaschotel met spinazie op Pinterest! \\n\\nmeer lekkere pasta recepten\\n\\n\\n\\n\\n\\n\\n\\n \\n\\n\\nPasta met stoofvlees \\n\\n\\n\\n\\n\\n\\n\\n\\n \\n\\n\\nPasta alfredo met spek \\n\\n\\n\\n\\n\\n\\n\\n\\n \\n\\n\\nLasagne bolognese'"
      ]
     },
     "metadata": {},
     "execution_count": 28
    }
   ],
   "source": [
    "soup.find('div', {'class' : 'entry__content'}).text.strip()"
   ]
  },
  {
   "cell_type": "code",
   "execution_count": null,
   "metadata": {},
   "outputs": [],
   "source": []
  }
 ]
}